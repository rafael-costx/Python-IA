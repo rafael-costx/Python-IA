{
 "cells": [
  {
   "cell_type": "code",
   "execution_count": null,
   "id": "d91d29d9",
   "metadata": {},
   "outputs": [],
   "source": [
    "# Passo a passo\n",
    "# Passo 0 - Entender a empresa e o desafio da empresa\n",
    "# Passo 1 - Importar a base de dados\n",
    "import pandas as pd\n",
    "\n",
    "tabela = pd.read_csv(\"clientes.csv\")\n",
    "\n",
    "display(tabela)\n",
    "\n",
    "# Score de crédito = Nota de crédito\n",
    "# Good = Boa\n",
    "# Standard = OK\n",
    "# Poor = Ruim"
   ]
  },
  {
   "cell_type": "code",
   "execution_count": null,
   "id": "c7bd6931",
   "metadata": {},
   "outputs": [],
   "source": [
    "# Passo 2 - Preparar a base de dados para a Inteligência Artificial\n",
    "display(tabela.info())\n",
    "\n",
    "# int -> numero inteiro\n",
    "# float -> numero com casa decimal\n",
    "# object -> texto\n",
    "\n",
    "# LabelEncoder\n",
    "from sklearn.preprocessing import LabelEncoder\n",
    "\n",
    "# profissao\n",
    "\n",
    "# cientista - 1\n",
    "# bombeiro - 2\n",
    "# engenheiro - 3\n",
    "# dentista - 4\n",
    "# artista - 5\n",
    "codificador_profissao = LabelEncoder()\n",
    "tabela[\"profissao\"] = codificador_profissao.fit_transform(tabela[\"profissao\"])\n",
    "\n",
    "\n",
    "# mix_credito\n",
    "codificador_credito = LabelEncoder()\n",
    "tabela[\"mix_credito\"] = codificador_credito.fit_transform(tabela[\"mix_credito\"])\n",
    "\n",
    "# comportamento_pagamento\n",
    "codificador_pagamento = LabelEncoder()\n",
    "tabela[\"comportamento_pagamento\"] = codificador_pagamento.fit_transform(tabela[\"comportamento_pagamento\"])\n",
    "\n",
    "\n",
    "display(tabela.info())"
   ]
  },
  {
   "cell_type": "code",
   "execution_count": null,
   "id": "aed19ac5",
   "metadata": {},
   "outputs": [],
   "source": [
    "# y -> é a coluna da base de dados que eu quero prever\n",
    "y = tabela[\"score_credito\"]\n",
    "\n",
    "# x -> as colunas da base de dados que eu vou usar pra fazer a previsão\n",
    "x = tabela.drop(columns=[\"score_credito\", \"id_cliente\"])\n",
    "\n",
    "# separar em dados de treino e dados de teste\n",
    "from sklearn.model_selection import train_test_split\n",
    "\n",
    "x_treino, x_teste, y_treino, y_teste = train_test_split(x, y, test_size=0.3)"
   ]
  },
  {
   "cell_type": "code",
   "execution_count": null,
   "id": "0e5aeb84",
   "metadata": {},
   "outputs": [],
   "source": [
    "# Passo 3 - Treinar a Inteligência Artificial -> \n",
    "# Criar o modelo: Nota de crédito: Boa, Ok, Ruim\n",
    "\n",
    "# Arvore de Decisão -> RandomForest\n",
    "# Nearest Neighbors -> KNN -> Vizinhos Próximos\n",
    "\n",
    "# importar a IA (Inteligencia Artificial)\n",
    "from sklearn.ensemble import RandomForestClassifier\n",
    "from sklearn.neighbors import KNeighborsClassifier\n",
    "\n",
    "# criar a IA\n",
    "modelo_arvoredecisao = RandomForestClassifier()\n",
    "modelo_knn = KNeighborsClassifier()\n",
    "\n",
    "# treinar a IA\n",
    "modelo_arvoredecisao.fit(x_treino, y_treino)\n",
    "modelo_knn.fit(x_treino, y_treino)"
   ]
  },
  {
   "cell_type": "code",
   "execution_count": null,
   "id": "128adae1",
   "metadata": {},
   "outputs": [],
   "source": [
    "# Passo 4 - Escolher qual o melhor modelo\n",
    "previsao_arvoredecisao = modelo_arvoredecisao.predict(x_teste)\n",
    "previsao_knn = modelo_knn.predict(x_teste)\n",
    "\n",
    "# acurácia\n",
    "from sklearn.metrics import accuracy_score\n",
    "display(accuracy_score(y_teste, previsao_arvoredecisao))\n",
    "display(accuracy_score(y_teste, previsao_knn))"
   ]
  },
  {
   "cell_type": "code",
   "execution_count": null,
   "id": "5ff731c6",
   "metadata": {},
   "outputs": [],
   "source": [
    "# Passo 5 - Usar o melhor modelo para fazer previsão de novos clientes\n",
    "# melhor modelo é o modelo_arvoredecisao\n",
    "\n",
    "# importar os novos clientes para fazer a previsao\n",
    "tabela_novos_clientes = pd.read_csv(\"novos_clientes.csv\")\n",
    "\n",
    "# profissao\n",
    "tabela_novos_clientes[\"profissao\"] = codificador_profissao.transform(\n",
    "    tabela_novos_clientes[\"profissao\"])\n",
    "\n",
    "\n",
    "# mix_credito\n",
    "tabela_novos_clientes[\"mix_credito\"] = codificador_credito.transform(\n",
    "    tabela_novos_clientes[\"mix_credito\"])\n",
    "\n",
    "# comportamento_pagamento\n",
    "tabela_novos_clientes[\"comportamento_pagamento\"] = codificador_pagamento.transform(\n",
    "    tabela_novos_clientes[\"comportamento_pagamento\"])\n",
    "\n",
    "\n",
    "display(tabela_novos_clientes)\n",
    "\n",
    "nova_previsao = modelo_arvoredecisao.predict(tabela_novos_clientes)\n",
    "display(nova_previsao)"
   ]
  }
 ],
 "metadata": {
  "language_info": {
   "name": "python"
  }
 },
 "nbformat": 4,
 "nbformat_minor": 5
}
